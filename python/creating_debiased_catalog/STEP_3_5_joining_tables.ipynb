{
 "cells": [
  {
   "cell_type": "code",
   "execution_count": 1,
   "metadata": {
    "collapsed": false
   },
   "outputs": [
    {
     "name": "stdout",
     "output_type": "stream",
     "text": [
      "Populating the interactive namespace from numpy and matplotlib\n"
     ]
    }
   ],
   "source": [
    "%pylab inline\n",
    "from astropy.io import fits as pyfits\n",
    "from astropy.table import Table,join\n",
    "import numpy as np\n",
    "from astropy.io.fits import Column\n",
    "from datetime import datetime\n",
    "import matplotlib.pyplot as plt\n",
    "import requests\n",
    "\n",
    "warnings.filterwarnings('ignore', category=RuntimeWarning, append=True)\n",
    "warnings.filterwarnings('ignore', category=UserWarning, append=True);"
   ]
  },
  {
   "cell_type": "code",
   "execution_count": 2,
   "metadata": {
    "collapsed": true
   },
   "outputs": [],
   "source": [
    "# Load data from Dropbox folder instead of clogging up Github\n",
    "\n",
    "def download_from_dropbox(url):\n",
    "    \n",
    "    local_filename = \"../{:}\".format(url.split(\"/\")[-1].split(\"?\")[0])\n",
    "    r = requests.get(url, stream=True)\n",
    "    with open(local_filename, 'wb') as f:\n",
    "        for chunk in r.iter_content(chunk_size=1024): \n",
    "            if chunk: # filter out keep-alive new chunks\n",
    "                f.write(chunk)\n",
    "                f.flush()\n",
    "            \n",
    "    return local_filename"
   ]
  },
  {
   "cell_type": "code",
   "execution_count": 15,
   "metadata": {
    "collapsed": false
   },
   "outputs": [],
   "source": [
    "# 3 tables:\n",
    "# Table 1 - gz_hst_table_raw_and_weighted_votes.fits; contains all the vote data except for goods_full, but I hope to add that as soon as I get that data.\n",
    "#votes_fname = download_from_dropbox(\"https://www.dropbox.com/s/drdl6mht4kh2d7m/gz_hst_table_raw_and_weighted_votes.fits?dl=1\")\n",
    "votes_fname = '/home/mel/Dropbox/gzhubble/hubble_files/catalog_debiasing_files/new_sb_method/gz_hst_table_raw_and_weighted_votes.fits'\n",
    "votes_data = Table.read(votes_fname)\n",
    "\n",
    "# Table 2 - lo_hi_limits.fits: just need low, high limits on p_features (2 columns). \n",
    "#lohi_fname = download_from_dropbox(\"https://www.dropbox.com/s/n1zxkqe3q9rx2ve/lo_hi_limits.fits?dl=1\")\n",
    "lohi_fname = '/home/mel/Dropbox/gzhubble/hubble_files/catalog_debiasing_files/new_sb_method/lo_hi_limits.fits'\n",
    "lohi_data = Table.read(lohi_fname)\n",
    "\n",
    "#Table 3 - gzh_t01_z_mu_categorized.fits, want z, mu, and category information (4 columns)\n",
    "#meta_fname = download_from_dropbox(\"https://www.dropbox.com/s/hppphpzujretywn/gzh_t01_z_mu_categorized.fits?dl=1\")\n",
    "meta_fname = '/home/mel/Dropbox/gzhubble/hubble_files/catalog_debiasing_files/new_sb_method/gzh_t01_z_mu_categorized.fits'\n",
    "meta_data = Table.read(meta_fname)\n"
   ]
  },
  {
   "cell_type": "code",
   "execution_count": 16,
   "metadata": {
    "collapsed": false
   },
   "outputs": [],
   "source": [
    "lohi_data.remove_column('Z_BEST')\n",
    "lohi_data.remove_column('GZ_MU_I')\n",
    "lohi_data.remove_column('OBJNO')\n",
    "lohi_data.remove_column('survey_id')\n",
    "lohi_data.remove_column('Table')\n",
    "lohi_data.remove_column('t01_smooth_or_features_a02_features_or_disk_weighted_fraction')\n",
    "\n",
    "meta_data.remove_column('OBJNO')\n",
    "meta_data.remove_column('survey_id')\n",
    "meta_data.remove_column('Table')\n",
    "meta_data.remove_column('Correctable_Category')\n",
    "meta_data.remove_column('t01_smooth_or_features_a02_features_or_disk_weighted_fraction')"
   ]
  },
  {
   "cell_type": "code",
   "execution_count": 17,
   "metadata": {
    "collapsed": false
   },
   "outputs": [],
   "source": [
    "#Join Table 2 and Table 3- will have z, mu, low/hi limits on p_features\n",
    "lohi_meta = join(meta_data, lohi_data, keys='zooniverse_id',join_type='left')"
   ]
  },
  {
   "cell_type": "code",
   "execution_count": 18,
   "metadata": {
    "collapsed": false
   },
   "outputs": [
    {
     "data": {
      "text/html": [
       "&lt;Row index=0&gt;\n",
       "<table id=\"table140127981587216\">\n",
       "<thead><tr><th>zooniverse_id</th><th>Z_BEST</th><th>GZ_MU_I</th><th>correction_type</th></tr></thead>\n",
       "<thead><tr><th>str10</th><th>float64</th><th>float64</th><th>float64</th></tr></thead>\n",
       "<tr><td>AHZ2000001</td><td>0.885999977589</td><td>19.7407632791</td><td>0.0</td></tr>\n",
       "</table>"
      ],
      "text/plain": [
       "<Row index=0>\n",
       "zooniverse_id     Z_BEST        GZ_MU_I    correction_type\n",
       "    str10        float64        float64        float64    \n",
       "------------- -------------- ------------- ---------------\n",
       "   AHZ2000001 0.885999977589 19.7407632791             0.0"
      ]
     },
     "execution_count": 18,
     "metadata": {},
     "output_type": "execute_result"
    }
   ],
   "source": [
    "meta_data[0]"
   ]
  },
  {
   "cell_type": "code",
   "execution_count": 19,
   "metadata": {
    "collapsed": false
   },
   "outputs": [
    {
     "data": {
      "text/html": [
       "&lt;Row index=0 masked=True&gt;\n",
       "<table id=\"table140127982019408\">\n",
       "<thead><tr><th>zooniverse_id</th><th>survey_id</th><th>Table</th><th>RA</th><th>DEC</th><th>imaging</th><th>total_count</th><th>total_weight</th><th>t01_smooth_or_features_a01_smooth_fraction</th><th>t01_smooth_or_features_a01_smooth_weighted_fraction</th><th>t01_smooth_or_features_a02_features_or_disk_fraction</th><th>t01_smooth_or_features_a02_features_or_disk_weighted_fraction</th><th>t01_smooth_or_features_a03_star_or_artifact_fraction</th><th>t01_smooth_or_features_a03_star_or_artifact_weighted_fraction</th><th>t01_smooth_or_features_total_count</th><th>t01_smooth_or_features_total_weight</th><th>t02_edgeon_a01_yes_fraction</th><th>t02_edgeon_a01_yes_weighted_fraction</th><th>t02_edgeon_a02_no_fraction</th><th>t02_edgeon_a02_no_weighted_fraction</th><th>t02_edgeon_total_count</th><th>t02_edgeon_total_weight</th><th>t03_bar_a01_bar_fraction</th><th>t03_bar_a01_bar_weighted_fraction</th><th>t03_bar_a02_no_bar_fraction</th><th>t03_bar_a02_no_bar_weighted_fraction</th><th>t03_bar_total_count</th><th>t03_bar_total_weight</th><th>t04_spiral_a01_spiral_fraction</th><th>t04_spiral_a01_spiral_weighted_fraction</th><th>t04_spiral_a02_no_spiral_fraction</th><th>t04_spiral_a02_no_spiral_weighted_fraction</th><th>t04_spiral_total_count</th><th>t04_spiral_total_weight</th><th>t05_bulge_prominence_a01_no_bulge_fraction</th><th>t05_bulge_prominence_a01_no_bulge_weighted_fraction</th><th>t05_bulge_prominence_a02_just_noticeable_fraction</th><th>t05_bulge_prominence_a02_just_noticeable_weighted_fraction</th><th>t05_bulge_prominence_a03_obvious_fraction</th><th>t05_bulge_prominence_a03_obvious_weighted_fraction</th><th>t05_bulge_prominence_a04_dominant_fraction</th><th>t05_bulge_prominence_a04_dominant_weighted_fraction</th><th>t05_bulge_prominence_total_count</th><th>t05_bulge_prominence_total_weight</th><th>t06_odd_a01_yes_fraction</th><th>t06_odd_a01_yes_weighted_fraction</th><th>t06_odd_a02_no_fraction</th><th>t06_odd_a02_no_weighted_fraction</th><th>t06_odd_total_count</th><th>t06_odd_total_weight</th><th>t07_rounded_a01_completely_round_fraction</th><th>t07_rounded_a01_completely_round_weighted_fraction</th><th>t07_rounded_a02_in_between_fraction</th><th>t07_rounded_a02_in_between_weighted_fraction</th><th>t07_rounded_a03_cigar_shaped_fraction</th><th>t07_rounded_a03_cigar_shaped_weighted_fraction</th><th>t07_rounded_total_count</th><th>t07_rounded_total_weight</th><th>t08_odd_feature_a01_ring_fraction</th><th>t08_odd_feature_a01_ring_weighted_fraction</th><th>t08_odd_feature_a02_lens_or_arc_fraction</th><th>t08_odd_feature_a02_lens_or_arc_weighted_fraction</th><th>t08_odd_feature_a03_disturbed_fraction</th><th>t08_odd_feature_a03_disturbed_weighted_fraction</th><th>t08_odd_feature_a04_irregular_fraction</th><th>t08_odd_feature_a04_irregular_weighted_fraction</th><th>t08_odd_feature_a05_other_fraction</th><th>t08_odd_feature_a05_other_weighted_fraction</th><th>t08_odd_feature_a06_merger_fraction</th><th>t08_odd_feature_a06_merger_weighted_fraction</th><th>t08_odd_feature_a07_dust_lane_fraction</th><th>t08_odd_feature_a07_dust_lane_weighted_fraction</th><th>t08_odd_feature_total_count</th><th>t08_odd_feature_total_weight</th><th>t09_bulge_shape_a01_rounded_fraction</th><th>t09_bulge_shape_a01_rounded_weighted_fraction</th><th>t09_bulge_shape_a02_boxy_fraction</th><th>t09_bulge_shape_a02_boxy_weighted_fraction</th><th>t09_bulge_shape_a03_no_bulge_fraction</th><th>t09_bulge_shape_a03_no_bulge_weighted_fraction</th><th>t09_bulge_shape_total_count</th><th>t09_bulge_shape_total_weight</th><th>t10_arms_winding_a01_tight_fraction</th><th>t10_arms_winding_a01_tight_weighted_fraction</th><th>t10_arms_winding_a02_medium_fraction</th><th>t10_arms_winding_a02_medium_weighted_fraction</th><th>t10_arms_winding_a03_loose_fraction</th><th>t10_arms_winding_a03_loose_weighted_fraction</th><th>t10_arms_winding_total_count</th><th>t10_arms_winding_total_weight</th><th>t11_arms_number_a01_1_fraction</th><th>t11_arms_number_a01_1_weighted_fraction</th><th>t11_arms_number_a02_2_fraction</th><th>t11_arms_number_a02_2_weighted_fraction</th><th>t11_arms_number_a03_3_fraction</th><th>t11_arms_number_a03_3_weighted_fraction</th><th>t11_arms_number_a04_4_fraction</th><th>t11_arms_number_a04_4_weighted_fraction</th><th>t11_arms_number_a05_more_than_4_fraction</th><th>t11_arms_number_a05_more_than_4_weighted_fraction</th><th>t11_arms_number_a06_cant_tell_fraction</th><th>t11_arms_number_a06_cant_tell_weighted_fraction</th><th>t11_arms_number_total_count</th><th>t11_arms_number_total_weight</th><th>t12_clumpy_a01_yes_fraction</th><th>t12_clumpy_a01_yes_weighted_fraction</th><th>t12_clumpy_a02_no_fraction</th><th>t12_clumpy_a02_no_weighted_fraction</th><th>t12_clumpy_total_count</th><th>t12_clumpy_total_weight</th><th>t13_bright_clump_a01_yes_fraction</th><th>t13_bright_clump_a01_yes_weighted_fraction</th><th>t13_bright_clump_a02_no_fraction</th><th>t13_bright_clump_a02_no_weighted_fraction</th><th>t13_bright_clump_total_count</th><th>t13_bright_clump_total_weight</th><th>t14_bright_clump_central_a01_yes_fraction</th><th>t14_bright_clump_central_a01_yes_weighted_fraction</th><th>t14_bright_clump_central_a02_no_fraction</th><th>t14_bright_clump_central_a02_no_weighted_fraction</th><th>t14_bright_clump_central_total_count</th><th>t14_bright_clump_central_total_weight</th><th>t15_clumps_arrangement_a01_line_fraction</th><th>t15_clumps_arrangement_a01_line_weighted_fraction</th><th>t15_clumps_arrangement_a02_chain_fraction</th><th>t15_clumps_arrangement_a02_chain_weighted_fraction</th><th>t15_clumps_arrangement_a03_cluster_fraction</th><th>t15_clumps_arrangement_a03_cluster_weighted_fraction</th><th>t15_clumps_arrangement_a04_spiral_fraction</th><th>t15_clumps_arrangement_a04_spiral_weighted_fraction</th><th>t15_clumps_arrangement_total_count</th><th>t15_clumps_arrangement_total_weight</th><th>t16_clumps_count_a02_2_fraction</th><th>t16_clumps_count_a02_2_weighted_fraction</th><th>t16_clumps_count_a03_3_fraction</th><th>t16_clumps_count_a03_3_weighted_fraction</th><th>t16_clumps_count_a04_4_fraction</th><th>t16_clumps_count_a04_4_weighted_fraction</th><th>t16_clumps_count_a05_more_than_4_fraction</th><th>t16_clumps_count_a05_more_than_4_weighted_fraction</th><th>t16_clumps_count_a06_cant_tell_fraction</th><th>t16_clumps_count_a06_cant_tell_weighted_fraction</th><th>t16_clumps_count_a01_1_fraction</th><th>t16_clumps_count_a01_1_weighted_fraction</th><th>t16_clumps_count_total_count</th><th>t16_clumps_count_total_weight</th><th>t17_clumps_symmetrical_a01_yes_fraction</th><th>t17_clumps_symmetrical_a01_yes_weighted_fraction</th><th>t17_clumps_symmetrical_a02_no_fraction</th><th>t17_clumps_symmetrical_a02_no_weighted_fraction</th><th>t17_clumps_symmetrical_total_count</th><th>t17_clumps_symmetrical_total_weight</th><th>t18_clumps_embedded_a01_yes_fraction</th><th>t18_clumps_embedded_a01_yes_weighted_fraction</th><th>t18_clumps_embedded_a02_no_fraction</th><th>t18_clumps_embedded_a02_no_weighted_fraction</th><th>t18_clumps_embedded_total_count</th><th>t18_clumps_embedded_total_weight</th></tr></thead>\n",
       "<thead><tr><th>str10</th><th>str19</th><th>str13</th><th>float64</th><th>float64</th><th>str17</th><th>int16</th><th>float32</th><th>float32</th><th>float32</th><th>float32</th><th>float32</th><th>float32</th><th>float32</th><th>int16</th><th>float32</th><th>float32</th><th>float32</th><th>float32</th><th>float32</th><th>int16</th><th>float32</th><th>float32</th><th>float32</th><th>float32</th><th>float32</th><th>int16</th><th>float32</th><th>float32</th><th>float32</th><th>float32</th><th>float32</th><th>int16</th><th>float32</th><th>float32</th><th>float32</th><th>float32</th><th>float32</th><th>float32</th><th>float32</th><th>float32</th><th>float32</th><th>int16</th><th>float32</th><th>float32</th><th>float32</th><th>float32</th><th>float32</th><th>int16</th><th>float32</th><th>float32</th><th>float32</th><th>float32</th><th>float32</th><th>float32</th><th>float32</th><th>int16</th><th>float32</th><th>float32</th><th>float32</th><th>float32</th><th>float32</th><th>float32</th><th>float32</th><th>float32</th><th>float32</th><th>float32</th><th>float32</th><th>float32</th><th>float32</th><th>float32</th><th>float32</th><th>int16</th><th>float32</th><th>float32</th><th>float32</th><th>float32</th><th>float32</th><th>float32</th><th>float32</th><th>int16</th><th>float32</th><th>float32</th><th>float32</th><th>float32</th><th>float32</th><th>float32</th><th>float32</th><th>int16</th><th>float32</th><th>float32</th><th>float32</th><th>float32</th><th>float32</th><th>float32</th><th>float32</th><th>float32</th><th>float32</th><th>float32</th><th>float32</th><th>float32</th><th>float32</th><th>int16</th><th>float32</th><th>float32</th><th>float32</th><th>float32</th><th>float32</th><th>int16</th><th>float32</th><th>float32</th><th>float32</th><th>float32</th><th>float32</th><th>int16</th><th>float32</th><th>float32</th><th>float32</th><th>float32</th><th>float32</th><th>int16</th><th>float32</th><th>float32</th><th>float32</th><th>float32</th><th>float32</th><th>float32</th><th>float32</th><th>float32</th><th>float32</th><th>int16</th><th>float32</th><th>float32</th><th>float32</th><th>float32</th><th>float32</th><th>float32</th><th>float32</th><th>float32</th><th>float32</th><th>float32</th><th>float32</th><th>float32</th><th>float32</th><th>int16</th><th>float32</th><th>float32</th><th>float32</th><th>float32</th><th>float32</th><th>int16</th><th>float32</th><th>float32</th><th>float32</th><th>float32</th><th>float32</th><th>int16</th><th>float32</th></tr></thead>\n",
       "<tr><td>AHZ3000001</td><td>50000000</td><td>goods_shallow</td><td>189.481351</td><td>62.2591072</td><td>GOODS-N</td><td>591</td><td>579.243</td><td>0.39</td><td>0.415</td><td>0.382</td><td>0.415</td><td>0.228</td><td>0.17</td><td>123</td><td>113.241</td><td>0.0</td><td>0.0</td><td>1.0</td><td>1.0</td><td>11</td><td>11.0</td><td>0.091</td><td>0.091</td><td>0.909</td><td>0.909</td><td>11</td><td>11.0</td><td>0.0</td><td>0.0</td><td>1.0</td><td>1.0</td><td>11</td><td>11.0</td><td>0.273</td><td>0.273</td><td>0.182</td><td>0.182</td><td>0.364</td><td>0.364</td><td>0.182</td><td>0.182</td><td>11</td><td>11.0</td><td>0.442</td><td>0.447</td><td>0.558</td><td>0.553</td><td>95</td><td>94.001</td><td>0.082</td><td>0.063</td><td>0.898</td><td>0.917</td><td>0.02</td><td>0.021</td><td>49</td><td>48.001</td><td>0.0</td><td>0.0</td><td>0.048</td><td>0.048</td><td>0.071</td><td>0.071</td><td>0.286</td><td>0.286</td><td>0.476</td><td>0.476</td><td>0.119</td><td>0.119</td><td>0.0</td><td>0.0</td><td>42</td><td>42.0</td><td>0.0</td><td>0.0</td><td>0.0</td><td>0.0</td><td>0.0</td><td>0.0</td><td>0</td><td>0.0</td><td>0.0</td><td>0.0</td><td>0.0</td><td>0.0</td><td>0.0</td><td>0.0</td><td>0</td><td>0.0</td><td>0.0</td><td>0.0</td><td>0.0</td><td>0.0</td><td>0.0</td><td>0.0</td><td>0.0</td><td>0.0</td><td>0.0</td><td>0.0</td><td>0.0</td><td>0.0</td><td>0</td><td>0.0</td><td>0.766</td><td>0.766</td><td>0.234</td><td>0.234</td><td>47</td><td>47.0</td><td>0.853</td><td>0.853</td><td>0.147</td><td>0.147</td><td>34</td><td>34.0</td><td>0.862</td><td>0.862</td><td>0.138</td><td>0.138</td><td>29</td><td>29.0</td><td>0.136</td><td>0.136</td><td>0.636</td><td>0.636</td><td>0.227</td><td>0.227</td><td>0.0</td><td>0.0</td><td>22</td><td>22.0</td><td>0.389</td><td>0.389</td><td>0.472</td><td>0.472</td><td>0.0</td><td>0.0</td><td>0.0</td><td>0.0</td><td>0.083</td><td>0.083</td><td>0.056</td><td>0.056</td><td>36</td><td>36.0</td><td>0.286</td><td>0.286</td><td>0.714</td><td>0.714</td><td>35</td><td>35.0</td><td>0.571</td><td>0.571</td><td>0.429</td><td>0.429</td><td>35</td><td>35.0</td></tr>\n",
       "</table>"
      ],
      "text/plain": [
       "<Row index=0 masked=True>\n",
       "zooniverse_id      survey_id          Table         RA        DEC          imaging      total_count total_weight t01_smooth_or_features_a01_smooth_fraction t01_smooth_or_features_a01_smooth_weighted_fraction t01_smooth_or_features_a02_features_or_disk_fraction t01_smooth_or_features_a02_features_or_disk_weighted_fraction t01_smooth_or_features_a03_star_or_artifact_fraction t01_smooth_or_features_a03_star_or_artifact_weighted_fraction t01_smooth_or_features_total_count t01_smooth_or_features_total_weight t02_edgeon_a01_yes_fraction t02_edgeon_a01_yes_weighted_fraction t02_edgeon_a02_no_fraction t02_edgeon_a02_no_weighted_fraction t02_edgeon_total_count t02_edgeon_total_weight t03_bar_a01_bar_fraction t03_bar_a01_bar_weighted_fraction t03_bar_a02_no_bar_fraction t03_bar_a02_no_bar_weighted_fraction t03_bar_total_count t03_bar_total_weight t04_spiral_a01_spiral_fraction t04_spiral_a01_spiral_weighted_fraction t04_spiral_a02_no_spiral_fraction t04_spiral_a02_no_spiral_weighted_fraction t04_spiral_total_count t04_spiral_total_weight t05_bulge_prominence_a01_no_bulge_fraction t05_bulge_prominence_a01_no_bulge_weighted_fraction t05_bulge_prominence_a02_just_noticeable_fraction t05_bulge_prominence_a02_just_noticeable_weighted_fraction t05_bulge_prominence_a03_obvious_fraction t05_bulge_prominence_a03_obvious_weighted_fraction t05_bulge_prominence_a04_dominant_fraction t05_bulge_prominence_a04_dominant_weighted_fraction t05_bulge_prominence_total_count t05_bulge_prominence_total_weight t06_odd_a01_yes_fraction t06_odd_a01_yes_weighted_fraction t06_odd_a02_no_fraction t06_odd_a02_no_weighted_fraction t06_odd_total_count t06_odd_total_weight t07_rounded_a01_completely_round_fraction t07_rounded_a01_completely_round_weighted_fraction t07_rounded_a02_in_between_fraction t07_rounded_a02_in_between_weighted_fraction t07_rounded_a03_cigar_shaped_fraction t07_rounded_a03_cigar_shaped_weighted_fraction t07_rounded_total_count t07_rounded_total_weight t08_odd_feature_a01_ring_fraction t08_odd_feature_a01_ring_weighted_fraction t08_odd_feature_a02_lens_or_arc_fraction t08_odd_feature_a02_lens_or_arc_weighted_fraction t08_odd_feature_a03_disturbed_fraction t08_odd_feature_a03_disturbed_weighted_fraction t08_odd_feature_a04_irregular_fraction t08_odd_feature_a04_irregular_weighted_fraction t08_odd_feature_a05_other_fraction t08_odd_feature_a05_other_weighted_fraction t08_odd_feature_a06_merger_fraction t08_odd_feature_a06_merger_weighted_fraction t08_odd_feature_a07_dust_lane_fraction t08_odd_feature_a07_dust_lane_weighted_fraction t08_odd_feature_total_count t08_odd_feature_total_weight t09_bulge_shape_a01_rounded_fraction t09_bulge_shape_a01_rounded_weighted_fraction t09_bulge_shape_a02_boxy_fraction t09_bulge_shape_a02_boxy_weighted_fraction t09_bulge_shape_a03_no_bulge_fraction t09_bulge_shape_a03_no_bulge_weighted_fraction t09_bulge_shape_total_count t09_bulge_shape_total_weight t10_arms_winding_a01_tight_fraction t10_arms_winding_a01_tight_weighted_fraction t10_arms_winding_a02_medium_fraction t10_arms_winding_a02_medium_weighted_fraction t10_arms_winding_a03_loose_fraction t10_arms_winding_a03_loose_weighted_fraction t10_arms_winding_total_count t10_arms_winding_total_weight t11_arms_number_a01_1_fraction t11_arms_number_a01_1_weighted_fraction t11_arms_number_a02_2_fraction t11_arms_number_a02_2_weighted_fraction t11_arms_number_a03_3_fraction t11_arms_number_a03_3_weighted_fraction t11_arms_number_a04_4_fraction t11_arms_number_a04_4_weighted_fraction t11_arms_number_a05_more_than_4_fraction t11_arms_number_a05_more_than_4_weighted_fraction t11_arms_number_a06_cant_tell_fraction t11_arms_number_a06_cant_tell_weighted_fraction t11_arms_number_total_count t11_arms_number_total_weight t12_clumpy_a01_yes_fraction t12_clumpy_a01_yes_weighted_fraction t12_clumpy_a02_no_fraction t12_clumpy_a02_no_weighted_fraction t12_clumpy_total_count t12_clumpy_total_weight t13_bright_clump_a01_yes_fraction t13_bright_clump_a01_yes_weighted_fraction t13_bright_clump_a02_no_fraction t13_bright_clump_a02_no_weighted_fraction t13_bright_clump_total_count t13_bright_clump_total_weight t14_bright_clump_central_a01_yes_fraction t14_bright_clump_central_a01_yes_weighted_fraction t14_bright_clump_central_a02_no_fraction t14_bright_clump_central_a02_no_weighted_fraction t14_bright_clump_central_total_count t14_bright_clump_central_total_weight t15_clumps_arrangement_a01_line_fraction t15_clumps_arrangement_a01_line_weighted_fraction t15_clumps_arrangement_a02_chain_fraction t15_clumps_arrangement_a02_chain_weighted_fraction t15_clumps_arrangement_a03_cluster_fraction t15_clumps_arrangement_a03_cluster_weighted_fraction t15_clumps_arrangement_a04_spiral_fraction t15_clumps_arrangement_a04_spiral_weighted_fraction t15_clumps_arrangement_total_count t15_clumps_arrangement_total_weight t16_clumps_count_a02_2_fraction t16_clumps_count_a02_2_weighted_fraction t16_clumps_count_a03_3_fraction t16_clumps_count_a03_3_weighted_fraction t16_clumps_count_a04_4_fraction t16_clumps_count_a04_4_weighted_fraction t16_clumps_count_a05_more_than_4_fraction t16_clumps_count_a05_more_than_4_weighted_fraction t16_clumps_count_a06_cant_tell_fraction t16_clumps_count_a06_cant_tell_weighted_fraction t16_clumps_count_a01_1_fraction t16_clumps_count_a01_1_weighted_fraction t16_clumps_count_total_count t16_clumps_count_total_weight t17_clumps_symmetrical_a01_yes_fraction t17_clumps_symmetrical_a01_yes_weighted_fraction t17_clumps_symmetrical_a02_no_fraction t17_clumps_symmetrical_a02_no_weighted_fraction t17_clumps_symmetrical_total_count t17_clumps_symmetrical_total_weight t18_clumps_embedded_a01_yes_fraction t18_clumps_embedded_a01_yes_weighted_fraction t18_clumps_embedded_a02_no_fraction t18_clumps_embedded_a02_no_weighted_fraction t18_clumps_embedded_total_count t18_clumps_embedded_total_weight\n",
       "    str10            str19            str13      float64    float64         str17          int16      float32                     float32                                         float32                                             float32                                                   float32                                                  float32                                                   float32                                          int16                              float32                         float32                         float32                         float32                         float32                       int16                  float32                 float32                       float32                        float32                         float32                       int16              float32                   float32                             float32                              float32                               float32                           int16                  float32                          float32                                         float32                                            float32                                               float32                                            float32                                       float32                                        float32                                         float32                                    int16                            float32                      float32                       float32                      float32                     float32                     int16              float32                         float32                                       float32                                     float32                                 float32                                   float32                                   float32                              int16                  float32                       float32                               float32                                   float32                                       float32                                     float32                                     float32                                    float32                                     float32                                  float32                                 float32                                 float32                                 float32                                   float32                                     float32                                int16                      float32                          float32                                   float32                                 float32                               float32                                  float32                                   float32                                int16                      float32                          float32                                 float32                                  float32                                   float32                                  float32                                 float32                               int16                        float32                       float32                             float32                            float32                             float32                            float32                             float32                            float32                             float32                                 float32                                       float32                                     float32                                     float32                                int16                      float32                      float32                         float32                         float32                         float32                       int16                  float32                      float32                               float32                               float32                               float32                             int16                        float32                             float32                                       float32                                       float32                                       float32                                     int16                                float32                                float32                                       float32                                       float32                                       float32                                         float32                                         float32                                         float32                                         float32                                     int16                              float32                           float32                             float32                              float32                             float32                              float32                             float32                                   float32                                       float32                                       float32                                     float32                                  float32                             float32                             int16                        float32                            float32                                     float32                                     float32                                     float32                                   int16                              float32                             float32                                   float32                                  float32                                 float32                                 int16                          float32             \n",
       "------------- ------------------- ------------- ---------- ---------- ----------------- ----------- ------------ ------------------------------------------ --------------------------------------------------- ---------------------------------------------------- ------------------------------------------------------------- ---------------------------------------------------- ------------------------------------------------------------- ---------------------------------- ----------------------------------- --------------------------- ------------------------------------ -------------------------- ----------------------------------- ---------------------- ----------------------- ------------------------ --------------------------------- --------------------------- ------------------------------------ ------------------- -------------------- ------------------------------ --------------------------------------- --------------------------------- ------------------------------------------ ---------------------- ----------------------- ------------------------------------------ --------------------------------------------------- ------------------------------------------------- ---------------------------------------------------------- ----------------------------------------- -------------------------------------------------- ------------------------------------------ --------------------------------------------------- -------------------------------- --------------------------------- ------------------------ --------------------------------- ----------------------- -------------------------------- ------------------- -------------------- ----------------------------------------- -------------------------------------------------- ----------------------------------- -------------------------------------------- ------------------------------------- ---------------------------------------------- ----------------------- ------------------------ --------------------------------- ------------------------------------------ ---------------------------------------- ------------------------------------------------- -------------------------------------- ----------------------------------------------- -------------------------------------- ----------------------------------------------- ---------------------------------- ------------------------------------------- ----------------------------------- -------------------------------------------- -------------------------------------- ----------------------------------------------- --------------------------- ---------------------------- ------------------------------------ --------------------------------------------- --------------------------------- ------------------------------------------ ------------------------------------- ---------------------------------------------- --------------------------- ---------------------------- ----------------------------------- -------------------------------------------- ------------------------------------ --------------------------------------------- ----------------------------------- -------------------------------------------- ---------------------------- ----------------------------- ------------------------------ --------------------------------------- ------------------------------ --------------------------------------- ------------------------------ --------------------------------------- ------------------------------ --------------------------------------- ---------------------------------------- ------------------------------------------------- -------------------------------------- ----------------------------------------------- --------------------------- ---------------------------- --------------------------- ------------------------------------ -------------------------- ----------------------------------- ---------------------- ----------------------- --------------------------------- ------------------------------------------ -------------------------------- ----------------------------------------- ---------------------------- ----------------------------- ----------------------------------------- -------------------------------------------------- ---------------------------------------- ------------------------------------------------- ------------------------------------ ------------------------------------- ---------------------------------------- ------------------------------------------------- ----------------------------------------- -------------------------------------------------- ------------------------------------------- ---------------------------------------------------- ------------------------------------------ --------------------------------------------------- ---------------------------------- ----------------------------------- ------------------------------- ---------------------------------------- ------------------------------- ---------------------------------------- ------------------------------- ---------------------------------------- ----------------------------------------- -------------------------------------------------- --------------------------------------- ------------------------------------------------ ------------------------------- ---------------------------------------- ---------------------------- ----------------------------- --------------------------------------- ------------------------------------------------ -------------------------------------- ----------------------------------------------- ---------------------------------- ----------------------------------- ------------------------------------ --------------------------------------------- ----------------------------------- -------------------------------------------- ------------------------------- --------------------------------\n",
       "   AHZ3000001 50000000            goods_shallow 189.481351 62.2591072 GOODS-N                   591      579.243                                       0.39                                               0.415                                                0.382                                                         0.415                                                0.228                                                          0.17                                123                             113.241                         0.0                                  0.0                        1.0                                 1.0                     11                    11.0                    0.091                             0.091                       0.909                                0.909                  11                 11.0                            0.0                                     0.0                               1.0                                        1.0                     11                    11.0                                      0.273                                               0.273                                             0.182                                                      0.182                                     0.364                                              0.364                                      0.182                                               0.182                               11                              11.0                    0.442                             0.447                   0.558                            0.553                  95               94.001                                     0.082                                              0.063                               0.898                                        0.917                                  0.02                                          0.021                      49                   48.001                               0.0                                        0.0                                    0.048                                             0.048                                  0.071                                           0.071                                  0.286                                           0.286                              0.476                                       0.476                               0.119                                        0.119                                    0.0                                             0.0                          42                         42.0                                  0.0                                           0.0                               0.0                                        0.0                                   0.0                                            0.0                           0                          0.0                                 0.0                                          0.0                                  0.0                                           0.0                                 0.0                                          0.0                            0                           0.0                            0.0                                     0.0                            0.0                                     0.0                            0.0                                     0.0                            0.0                                     0.0                                      0.0                                               0.0                                    0.0                                             0.0                           0                          0.0                       0.766                                0.766                      0.234                               0.234                     47                    47.0                             0.853                                      0.853                            0.147                                     0.147                           34                          34.0                                     0.862                                              0.862                                    0.138                                             0.138                                   29                                  29.0                                    0.136                                             0.136                                     0.636                                              0.636                                       0.227                                                0.227                                        0.0                                                 0.0                                 22                                22.0                           0.389                                    0.389                           0.472                                    0.472                             0.0                                      0.0                                       0.0                                                0.0                                   0.083                                            0.083                           0.056                                    0.056                           36                          36.0                                   0.286                                            0.286                                  0.714                                           0.714                                 35                                35.0                                0.571                                         0.571                               0.429                                        0.429                              35                             35.0"
      ]
     },
     "execution_count": 19,
     "metadata": {},
     "output_type": "execute_result"
    }
   ],
   "source": [
    "votes_data[0]"
   ]
  },
  {
   "cell_type": "code",
   "execution_count": 20,
   "metadata": {
    "collapsed": false
   },
   "outputs": [],
   "source": [
    "#strip Table names of blank spaces:\n",
    "for i in range(0,len(votes_data)):\n",
    "    votes_data['Table'][i]=votes_data['Table'][i].strip()\n"
   ]
  },
  {
   "cell_type": "code",
   "execution_count": 21,
   "metadata": {
    "collapsed": false
   },
   "outputs": [],
   "source": [
    "#join Table 1 (votes + Imaging) with the other stuff:\n",
    "input_table=join(votes_data,lohi_meta,keys='zooniverse_id',join_type='left')"
   ]
  },
  {
   "cell_type": "code",
   "execution_count": 22,
   "metadata": {
    "collapsed": false
   },
   "outputs": [
    {
     "data": {
      "text/plain": [
       "179564"
      ]
     },
     "execution_count": 22,
     "metadata": {},
     "output_type": "execute_result"
    }
   ],
   "source": [
    "len(input_table)"
   ]
  },
  {
   "cell_type": "code",
   "execution_count": 23,
   "metadata": {
    "collapsed": false
   },
   "outputs": [],
   "source": [
    "#Set path for output\n",
    "fname = '/home/mel/Dropbox/gzhubble/hubble_files/catalog_debiasing_files/new_sb_method/input_for_hubble_debiased_catalog.fits'\n",
    "\n",
    "input_table.write(fname,overwrite=True)\n"
   ]
  },
  {
   "cell_type": "code",
   "execution_count": null,
   "metadata": {
    "collapsed": true
   },
   "outputs": [],
   "source": []
  }
 ],
 "metadata": {
  "kernelspec": {
   "display_name": "Python 2",
   "language": "python",
   "name": "python2"
  },
  "language_info": {
   "codemirror_mode": {
    "name": "ipython",
    "version": 2
   },
   "file_extension": ".py",
   "mimetype": "text/x-python",
   "name": "python",
   "nbconvert_exporter": "python",
   "pygments_lexer": "ipython2",
   "version": "2.7.6"
  }
 },
 "nbformat": 4,
 "nbformat_minor": 0
}
