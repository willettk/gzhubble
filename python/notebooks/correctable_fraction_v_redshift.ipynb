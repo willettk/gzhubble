{
 "cells": [
  {
   "cell_type": "code",
   "execution_count": 1,
   "metadata": {
    "collapsed": true
   },
   "outputs": [],
   "source": [
    "%matplotlib inline\n",
    "\n",
    "from matplotlib import pyplot as plt\n",
    "from astropy.table import Table,Column,join\n",
    "from astropy.io import fits\n",
    "import numpy as np\n",
    "import matplotlib.gridspec as gridspec\n",
    "\n",
    "from scipy.optimize import minimize\n",
    "import scipy.stats as stats\n",
    "\n",
    "import os\n",
    "import requests\n",
    "import warnings\n",
    "\n",
    "warnings.filterwarnings('ignore', category=RuntimeWarning, append=True)\n",
    "warnings.filterwarnings('ignore', category=UserWarning, append=True)\n",
    "plt.rcParams['text.usetex']=True\n",
    "plt.rcParams['xtick.labelsize'] = 20\n",
    "plt.rcParams['ytick.labelsize'] = 20 "
   ]
  },
  {
   "cell_type": "code",
   "execution_count": 49,
   "metadata": {
    "collapsed": false
   },
   "outputs": [],
   "source": [
    "data = Table.read('/home/mel/Dropbox/gzhubble/hubble_files/catalog_debiasing_files/new_sb_method/draft_2_debiased_tables/catalog_9_6_2016_hubble.fits')    \n"
   ]
  },
  {
   "cell_type": "code",
   "execution_count": 44,
   "metadata": {
    "collapsed": false
   },
   "outputs": [],
   "source": [
    "f = 't01_smooth_or_features_a02_features_or_disk_weighted_fraction'\n"
   ]
  },
  {
   "cell_type": "markdown",
   "metadata": {
    "collapsed": false
   },
   "source": [
    "## Check fraction of correctable galaxies as a function of redshift and f_features_weighted"
   ]
  },
  {
   "cell_type": "code",
   "execution_count": 50,
   "metadata": {
    "collapsed": false
   },
   "outputs": [],
   "source": [
    "xbins = 10\n",
    "ybins = 7\n",
    "zmin = .3\n",
    "zmax = 1\n",
    "fmin = 0\n",
    "fmax = 1\n",
    "\n",
    "\n",
    "correctable = data[(data['correction_type']==0)]\n",
    "\n",
    "correctable_hist,xedges,yedges = np.histogram2d(correctable[f],correctable['Z_BEST'],range=((fmin,fmax),(zmin,zmax)),bins=(xbins,ybins))\n",
    "all_hist,xedges,yedges = np.histogram2d(data[f],data['Z_BEST'],range=((fmin,fmax),(zmin,zmax)),bins=(xbins,ybins))\n",
    "\n",
    "correctable_fraction_hist = correctable_hist / all_hist\n",
    "\n",
    "extent=[xedges[0],xedges[-1],yedges[0],yedges[-1]]"
   ]
  },
  {
   "cell_type": "code",
   "execution_count": 51,
   "metadata": {
    "collapsed": false
   },
   "outputs": [
    {
     "data": {
      "image/png": "[encoded data removed]",
      "text/plain": [
       "<matplotlib.figure.Figure at 0x7fd7eb0b5d90>"
      ]
     },
     "metadata": {},
     "output_type": "display_data"
    }
   ],
   "source": [
    "cmap = \"afmhot\"\n",
    "f=plt.figure(figsize=(10,7))\n",
    "ax=plt.subplot(111,axisbg='#EDEDED')\n",
    "plt.imshow(correctable_fraction_hist.T,origin='lower',extent=extent,interpolation='nearest',cmap=cmap,aspect='auto',vmin=0,vmax=1)\n",
    "plt.colorbar()\n",
    "plt.xlabel('$\\mathrm{f_{features,weighted}}$',fontsize=30)\n",
    "plt.ylabel('$\\mathrm{redshift}$',fontsize=25)\n",
    "plt.ylim(.2,1.1)\n",
    "f.text(.87,.5,'$\\mathrm{fraction~of~corrected~galaxies}$',fontsize=25,rotation=270,verticalalignment='center')\n",
    "plt.savefig('../../writeup/figures/correctable_fraction.pdf')\n"
   ]
  },
  {
   "cell_type": "code",
   "execution_count": null,
   "metadata": {
    "collapsed": true
   },
   "outputs": [],
   "source": []
  }
 ],
 "metadata": {
  "kernelspec": {
   "display_name": "Python 2",
   "language": "python",
   "name": "python2"
  },
  "language_info": {
   "codemirror_mode": {
    "name": "ipython",
    "version": 2
   },
   "file_extension": ".py",
   "mimetype": "text/x-python",
   "name": "python",
   "nbconvert_exporter": "python",
   "pygments_lexer": "ipython2",
   "version": "2.7.6"
  }
 },
 "nbformat": 4,
 "nbformat_minor": 0
}
